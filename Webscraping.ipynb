{
  "nbformat": 4,
  "nbformat_minor": 0,
  "metadata": {
    "colab": {
      "provenance": []
    },
    "kernelspec": {
      "name": "python3",
      "display_name": "Python 3"
    },
    "language_info": {
      "name": "python"
    }
  },
  "cells": [
    {
      "cell_type": "code",
      "execution_count": null,
      "metadata": {
        "colab": {
          "base_uri": "https://localhost:8080/"
        },
        "id": "1ma4eDD8RUQm",
        "outputId": "04126365-6a34-4b1e-bda0-f081a18be04e"
      },
      "outputs": [
        {
          "output_type": "stream",
          "name": "stdout",
          "text": [
            "Googlesearch package installed successfully!\n"
          ]
        }
      ],
      "source": [
        "from googlesearch import search\n",
        "print(\"Googlesearch package installed successfully!\")"
      ]
    },
    {
      "cell_type": "code",
      "source": [
        "# set query to search for in Google\n",
        "query = input(\"Enter query: \")\n",
        "# execute query and store search results\n",
        "results = search(query, tld=\"com\", lang=\"en\", stop=int(input(\"Enter no. of links reqd.: \")), pause=2)\n",
        "# results2 = results\n",
        "# iterate over all search results and print them\n",
        "# for result in results:\n",
        "#     print(result)"
      ],
      "metadata": {
        "colab": {
          "base_uri": "https://localhost:8080/"
        },
        "id": "GPJdibJUaFxe",
        "outputId": "4882b46c-5435-447b-dc6d-1b9194ca6222"
      },
      "execution_count": null,
      "outputs": [
        {
          "name": "stdout",
          "output_type": "stream",
          "text": [
            "Enter query: pranith dutta pinterest\n",
            "Enter no. of links reqd.: 1\n"
          ]
        }
      ]
    },
    {
      "cell_type": "code",
      "source": [
        "import requests\n",
        "from bs4 import BeautifulSoup\n",
        "\n",
        "# Send an HTTP request to the URL of the webpage you want to access\n",
        "for result in results:\n",
        "    response = requests.get(result)\n",
        "\n",
        "    # Parse the HTML content using BeautifulSoup\n",
        "    soup = BeautifulSoup(response.content, \"html.parser\")\n",
        "\n",
        "    # Extract the text content of the webpage\n",
        "    text = soup.get_text()\n",
        "\n",
        "    print(text)\n",
        "    print(\"\\n_________________________________________________________________________________________________________________\\n\")"
      ],
      "metadata": {
        "colab": {
          "base_uri": "https://localhost:8080/"
        },
        "id": "xWrJkDLuaI3q",
        "outputId": "16fbc4e5-4439-4f94-9680-45878727014d"
      },
      "execution_count": null,
      "outputs": [
        {
          "output_type": "stream",
          "name": "stdout",
          "text": [
            "PinterestTodayWatchShopExploreLog inSign upPranith Duttabio.link/palladium·OTAKUpranithdutta26·95 followers·16 followingFollowCreatedSavedwith HER, 55 Pins, 1danime, 258 Pins, 3dinfo, 36 Pins, 3dlife, 190 Pins, 4dspace, 39 Pins, 4dStory/Comics, 55 Pins, 6dpaintings, 10 Pins, 1wAnime funny, 14 Pins, 2wmemes, 4 Pins, 2moJr. P. Dutta, 7 Pins, 5moPranith Dutta (pranithdutta26) - Profile | Pinterest\n",
            "\n",
            "_________________________________________________________________________________________________________________\n",
            "\n"
          ]
        }
      ]
    },
    {
      "cell_type": "code",
      "source": [
        "type(results)"
      ],
      "metadata": {
        "colab": {
          "base_uri": "https://localhost:8080/"
        },
        "id": "zgUletkXc3lX",
        "outputId": "1acf91b0-29d9-4456-8a3d-8cd03ccfc6b8"
      },
      "execution_count": null,
      "outputs": [
        {
          "output_type": "execute_result",
          "data": {
            "text/plain": [
              "generator"
            ]
          },
          "metadata": {},
          "execution_count": 8
        }
      ]
    }
  ]
}