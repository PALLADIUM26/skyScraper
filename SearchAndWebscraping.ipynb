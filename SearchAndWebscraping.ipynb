{
  "cells": [
    {
      "cell_type": "code",
      "execution_count": 1,
      "metadata": {
        "colab": {
          "base_uri": "https://localhost:8080/"
        },
        "id": "ZzmkP6823j05",
        "outputId": "43708388-efe0-4933-ee54-78d39424a89d"
      },
      "outputs": [
        {
          "output_type": "stream",
          "name": "stdout",
          "text": [
            "Googlesearch package installed successfully!\n"
          ]
        }
      ],
      "source": [
        "from googlesearch import search\n",
        "print(\"Googlesearch package installed successfully!\")"
      ]
    },
    {
      "cell_type": "code",
      "execution_count": null,
      "metadata": {
        "colab": {
          "base_uri": "https://localhost:8080/"
        },
        "id": "LcXBqwRC3vVC",
        "outputId": "d91466eb-ff2c-441c-dcb4-dfc2ca4fefba"
      },
      "outputs": [
        {
          "name": "stdout",
          "output_type": "stream",
          "text": [
            "https://www.amazon.com/long-winter-coats-women/s?k=long+winter+coats+for+women\n",
            "https://bernardofashions.com/collections/heavy-winter-coats\n",
            "https://www.nordstrom.com/browse/women/clothing/coats-jackets?filterByLength=long\n"
          ]
        }
      ],
      "source": [
        "# set query to search for in Google\n",
        "query = \"long winter coat\"\n",
        "# execute query and store search results\n",
        "results = search(query, tld=\"com\", lang=\"en\", stop=3, pause=2)\n",
        "# iterate over all search results and print them\n",
        "for result in results:\n",
        "    print(result)"
      ]
    },
    {
      "cell_type": "code",
      "execution_count": null,
      "metadata": {
        "colab": {
          "base_uri": "https://localhost:8080/"
        },
        "id": "u2CyzZgo34Gc",
        "outputId": "8be7af99-3388-4ec9-98d6-fa14a570fbdf"
      },
      "outputs": [
        {
          "name": "stdout",
          "output_type": "stream",
          "text": [
            "Enter: dengue hindustan times\n",
            "https://www.hindustantimes.com/topic/dengue\n",
            "https://www.hindustantimes.com/lifestyle/health/dengue-top-tips-to-prevent-and-protect-yourself-amid-record-fever-outbreak-101695009518955.html\n",
            "https://www.hindustantimes.com/world-news/brazils-dengue-outbreak-512-000-cases-425-deaths-could-it-spread-to-us-101708074315279.html\n",
            "https://www.hindustantimes.com/cities/delhi-news/delhi-logged-third-worst-dengue-outbreak-in-2023-101704821541069.html\n",
            "https://www.hindustantimes.com/cities/bengaluru-news/waiting-for-universal-dengue-vaccine-and-drugs-south-asia-battles-silent-pandemic-101706694698405.html\n"
          ]
        }
      ],
      "source": [
        "# set query to search for in Google\n",
        "query = input(\"Enter: \")\n",
        "# execute query and store search results\n",
        "results = search(query, tld=\"com\", lang=\"en\", stop=5, pause=2)\n",
        "# iterate over all search results and print them\n",
        "for result in results:\n",
        "    print(result)"
      ]
    },
    {
      "cell_type": "code",
      "execution_count": null,
      "metadata": {
        "colab": {
          "base_uri": "https://localhost:8080/"
        },
        "id": "AzP-uae15QMw",
        "outputId": "fb2127d4-f685-42e8-d2f2-2a01d9bae226"
      },
      "outputs": [
        {
          "name": "stdout",
          "output_type": "stream",
          "text": [
            "Enter no. of links reqd.: 6\n",
            "https://www.indiatoday.in/health/story/how-rising-dengue-burden-is-costing-india-and-sri-lanka-billions-2516716-2024-03-19\n",
            "https://www.ncbi.nlm.nih.gov/pmc/articles/PMC3510884/\n",
            "https://ncvbdc.mohfw.gov.in/index4.php?lang=1&level=0&linkid=431&lid=3715\n",
            "https://www.indiatoday.in/health/story/dengue-cases-on-the-rise-experts-share-tips-for-treatment-at-home-2432919-2023-09-08\n",
            "https://www.thelancet.com/journals/lancet/article/PIIS0140-6736(23)00226-X/fulltext\n",
            "https://www.who.int/emergencies/disease-outbreak-news/item/2023-DON498\n"
          ]
        }
      ],
      "source": [
        "# set query to search for in Google\n",
        "query = \"dengue indiatoday\"\n",
        "# execute query and store search results\n",
        "# stop = int(input(\"Enter no. of links reqd.: \"))\n",
        "results = search(query, tld=\"com\", lang=\"en\", stop = int(input(\"Enter no. of links reqd.: \")), pause=2)\n",
        "# iterate over all search results and print them\n",
        "for result in results:\n",
        "    print(result)"
      ]
    },
    {
      "cell_type": "code",
      "execution_count": null,
      "metadata": {
        "colab": {
          "base_uri": "https://localhost:8080/",
          "height": 176
        },
        "id": "I9sDmN_t7BO2",
        "outputId": "422782e1-023b-4ef5-e1fc-ef73ae4d0a43"
      },
      "outputs": [
        {
          "ename": "AttributeError",
          "evalue": "'HTTPResponse' object has no attribute 'getCode'",
          "output_type": "error",
          "traceback": [
            "\u001b[0;31m---------------------------------------------------------------------------\u001b[0m",
            "\u001b[0;31mAttributeError\u001b[0m                            Traceback (most recent call last)",
            "\u001b[0;32m<ipython-input-14-c76be878e392>\u001b[0m in \u001b[0;36m<cell line: 5>\u001b[0;34m()\u001b[0m\n\u001b[1;32m      3\u001b[0m \u001b[0mwebUrl\u001b[0m\u001b[0;34m=\u001b[0m\u001b[0murllib\u001b[0m\u001b[0;34m.\u001b[0m\u001b[0mrequest\u001b[0m\u001b[0;34m.\u001b[0m\u001b[0murlopen\u001b[0m\u001b[0;34m(\u001b[0m\u001b[0;34m'https://www.python.org/'\u001b[0m\u001b[0;34m)\u001b[0m\u001b[0;34m\u001b[0m\u001b[0;34m\u001b[0m\u001b[0m\n\u001b[1;32m      4\u001b[0m \u001b[0;34m\u001b[0m\u001b[0m\n\u001b[0;32m----> 5\u001b[0;31m \u001b[0mprint\u001b[0m\u001b[0;34m(\u001b[0m\u001b[0;34m\"result: \"\u001b[0m\u001b[0;34m+\u001b[0m\u001b[0mstr\u001b[0m\u001b[0;34m(\u001b[0m\u001b[0mwebUrl\u001b[0m\u001b[0;34m.\u001b[0m\u001b[0mgetCode\u001b[0m\u001b[0;34m(\u001b[0m\u001b[0;34m)\u001b[0m\u001b[0;34m)\u001b[0m\u001b[0;34m)\u001b[0m\u001b[0;34m\u001b[0m\u001b[0;34m\u001b[0m\u001b[0m\n\u001b[0m",
            "\u001b[0;31mAttributeError\u001b[0m: 'HTTPResponse' object has no attribute 'getCode'"
          ]
        }
      ],
      "source": [
        "import urllib.request\n",
        "\n",
        "webUrl=urllib.request.urlopen('https://www.python.org/')\n",
        "\n",
        "print(\"result: \"+str(webUrl.getCode()))"
      ]
    },
    {
      "cell_type": "code",
      "execution_count": null,
      "metadata": {
        "colab": {
          "base_uri": "https://localhost:8080/"
        },
        "id": "O2S5eWSo75i7",
        "outputId": "3abb4212-2b2c-4fca-b932-759a3d7ab6ab"
      },
      "outputs": [
        {
          "data": {
            "text/plain": [
              "False"
            ]
          },
          "execution_count": 16,
          "metadata": {},
          "output_type": "execute_result"
        }
      ],
      "source": [
        "import webbrowser\n",
        "\n",
        "url = 'https://codefather.tech/'\n",
        "webbrowser.open(url)"
      ]
    },
    {
      "cell_type": "code",
      "execution_count": null,
      "metadata": {
        "colab": {
          "base_uri": "https://localhost:8080/"
        },
        "id": "zi8YKTf0BoJa",
        "outputId": "bec3978a-8804-482e-cc12-f9406625a1e0"
      },
      "outputs": [
        {
          "data": {
            "text/plain": [
              "False"
            ]
          },
          "execution_count": 17,
          "metadata": {},
          "output_type": "execute_result"
        }
      ],
      "source": [
        "import webbrowser\n",
        "\n",
        "url = 'https://codefather.tech/'\n",
        "\n",
        "# Open in new tab\n",
        "webbrowser.open_new_tab(url)\n",
        "\n",
        "# Open in new window\n",
        "webbrowser.open_new(url)"
      ]
    },
    {
      "cell_type": "code",
      "execution_count": null,
      "metadata": {
        "colab": {
          "base_uri": "https://localhost:8080/",
          "height": 315
        },
        "id": "Usch8zVPBseI",
        "outputId": "c584f6db-5e6c-4a20-cb04-24b364a1399d"
      },
      "outputs": [
        {
          "ename": "Error",
          "evalue": "could not locate runnable browser",
          "output_type": "error",
          "traceback": [
            "\u001b[0;31m---------------------------------------------------------------------------\u001b[0m",
            "\u001b[0;31mError\u001b[0m                                     Traceback (most recent call last)",
            "\u001b[0;32m<ipython-input-18-38bebc839ba7>\u001b[0m in \u001b[0;36m<cell line: 6>\u001b[0;34m()\u001b[0m\n\u001b[1;32m      4\u001b[0m \u001b[0;34m\u001b[0m\u001b[0m\n\u001b[1;32m      5\u001b[0m \u001b[0;31m# Open in Chrome browser\u001b[0m\u001b[0;34m\u001b[0m\u001b[0;34m\u001b[0m\u001b[0m\n\u001b[0;32m----> 6\u001b[0;31m \u001b[0mchrome\u001b[0m \u001b[0;34m=\u001b[0m \u001b[0mwebbrowser\u001b[0m\u001b[0;34m.\u001b[0m\u001b[0mget\u001b[0m\u001b[0;34m(\u001b[0m\u001b[0;34m'chrome'\u001b[0m\u001b[0;34m)\u001b[0m\u001b[0;34m\u001b[0m\u001b[0;34m\u001b[0m\u001b[0m\n\u001b[0m\u001b[1;32m      7\u001b[0m \u001b[0mchrome\u001b[0m\u001b[0;34m.\u001b[0m\u001b[0mopen_new_tab\u001b[0m\u001b[0;34m(\u001b[0m\u001b[0murl\u001b[0m\u001b[0;34m)\u001b[0m\u001b[0;34m\u001b[0m\u001b[0;34m\u001b[0m\u001b[0m\n",
            "\u001b[0;32m/usr/lib/python3.10/webbrowser.py\u001b[0m in \u001b[0;36mget\u001b[0;34m(using)\u001b[0m\n\u001b[1;32m     63\u001b[0m             \u001b[0;32melif\u001b[0m \u001b[0mcommand\u001b[0m\u001b[0;34m[\u001b[0m\u001b[0;36m0\u001b[0m\u001b[0;34m]\u001b[0m \u001b[0;32mis\u001b[0m \u001b[0;32mnot\u001b[0m \u001b[0;32mNone\u001b[0m\u001b[0;34m:\u001b[0m\u001b[0;34m\u001b[0m\u001b[0;34m\u001b[0m\u001b[0m\n\u001b[1;32m     64\u001b[0m                 \u001b[0;32mreturn\u001b[0m \u001b[0mcommand\u001b[0m\u001b[0;34m[\u001b[0m\u001b[0;36m0\u001b[0m\u001b[0;34m]\u001b[0m\u001b[0;34m(\u001b[0m\u001b[0;34m)\u001b[0m\u001b[0;34m\u001b[0m\u001b[0;34m\u001b[0m\u001b[0m\n\u001b[0;32m---> 65\u001b[0;31m     \u001b[0;32mraise\u001b[0m \u001b[0mError\u001b[0m\u001b[0;34m(\u001b[0m\u001b[0;34m\"could not locate runnable browser\"\u001b[0m\u001b[0;34m)\u001b[0m\u001b[0;34m\u001b[0m\u001b[0;34m\u001b[0m\u001b[0m\n\u001b[0m\u001b[1;32m     66\u001b[0m \u001b[0;34m\u001b[0m\u001b[0m\n\u001b[1;32m     67\u001b[0m \u001b[0;31m# Please note: the following definition hides a builtin function.\u001b[0m\u001b[0;34m\u001b[0m\u001b[0;34m\u001b[0m\u001b[0m\n",
            "\u001b[0;31mError\u001b[0m: could not locate runnable browser"
          ]
        }
      ],
      "source": [
        "import webbrowser\n",
        "\n",
        "url = 'https://codefather.tech/'\n",
        "\n",
        "# Open in Chrome browser\n",
        "chrome = webbrowser.get('chrome')\n",
        "chrome.open_new_tab(url)"
      ]
    },
    {
      "cell_type": "code",
      "execution_count": null,
      "metadata": {
        "colab": {
          "base_uri": "https://localhost:8080/",
          "height": 332
        },
        "id": "-Dlii3wJBv2f",
        "outputId": "7393820a-8356-4f7a-e013-4c9c08752349"
      },
      "outputs": [
        {
          "ename": "Error",
          "evalue": "could not locate runnable browser",
          "output_type": "error",
          "traceback": [
            "\u001b[0;31m---------------------------------------------------------------------------\u001b[0m",
            "\u001b[0;31mError\u001b[0m                                     Traceback (most recent call last)",
            "\u001b[0;32m<ipython-input-19-e4101c78dff0>\u001b[0m in \u001b[0;36m<cell line: 9>\u001b[0;34m()\u001b[0m\n\u001b[1;32m      7\u001b[0m ]\n\u001b[1;32m      8\u001b[0m \u001b[0;34m\u001b[0m\u001b[0m\n\u001b[0;32m----> 9\u001b[0;31m \u001b[0mbrowser\u001b[0m \u001b[0;34m=\u001b[0m \u001b[0mwebbrowser\u001b[0m\u001b[0;34m.\u001b[0m\u001b[0mget\u001b[0m\u001b[0;34m(\u001b[0m\u001b[0;34m)\u001b[0m\u001b[0;34m\u001b[0m\u001b[0;34m\u001b[0m\u001b[0m\n\u001b[0m\u001b[1;32m     10\u001b[0m \u001b[0;34m\u001b[0m\u001b[0m\n\u001b[1;32m     11\u001b[0m \u001b[0;32mfor\u001b[0m \u001b[0murl\u001b[0m \u001b[0;32min\u001b[0m \u001b[0murls\u001b[0m\u001b[0;34m:\u001b[0m\u001b[0;34m\u001b[0m\u001b[0;34m\u001b[0m\u001b[0m\n",
            "\u001b[0;32m/usr/lib/python3.10/webbrowser.py\u001b[0m in \u001b[0;36mget\u001b[0;34m(using)\u001b[0m\n\u001b[1;32m     63\u001b[0m             \u001b[0;32melif\u001b[0m \u001b[0mcommand\u001b[0m\u001b[0;34m[\u001b[0m\u001b[0;36m0\u001b[0m\u001b[0;34m]\u001b[0m \u001b[0;32mis\u001b[0m \u001b[0;32mnot\u001b[0m \u001b[0;32mNone\u001b[0m\u001b[0;34m:\u001b[0m\u001b[0;34m\u001b[0m\u001b[0;34m\u001b[0m\u001b[0m\n\u001b[1;32m     64\u001b[0m                 \u001b[0;32mreturn\u001b[0m \u001b[0mcommand\u001b[0m\u001b[0;34m[\u001b[0m\u001b[0;36m0\u001b[0m\u001b[0;34m]\u001b[0m\u001b[0;34m(\u001b[0m\u001b[0;34m)\u001b[0m\u001b[0;34m\u001b[0m\u001b[0;34m\u001b[0m\u001b[0m\n\u001b[0;32m---> 65\u001b[0;31m     \u001b[0;32mraise\u001b[0m \u001b[0mError\u001b[0m\u001b[0;34m(\u001b[0m\u001b[0;34m\"could not locate runnable browser\"\u001b[0m\u001b[0;34m)\u001b[0m\u001b[0;34m\u001b[0m\u001b[0;34m\u001b[0m\u001b[0m\n\u001b[0m\u001b[1;32m     66\u001b[0m \u001b[0;34m\u001b[0m\u001b[0m\n\u001b[1;32m     67\u001b[0m \u001b[0;31m# Please note: the following definition hides a builtin function.\u001b[0m\u001b[0;34m\u001b[0m\u001b[0;34m\u001b[0m\u001b[0m\n",
            "\u001b[0;31mError\u001b[0m: could not locate runnable browser"
          ]
        }
      ],
      "source": [
        "import webbrowser\n",
        "\n",
        "urls = [\n",
        "    'https://codefather.tech/',\n",
        "    'https://www.google.com/',\n",
        "    'https://github.com/',\n",
        "]\n",
        "\n",
        "browser = webbrowser.get()\n",
        "\n",
        "for url in urls:\n",
        "    browser.open_new_tab(url)"
      ]
    },
    {
      "cell_type": "code",
      "execution_count": null,
      "metadata": {
        "colab": {
          "base_uri": "https://localhost:8080/"
        },
        "id": "ExeUk_IAB3Ju",
        "outputId": "8dbceb86-0cdb-406a-e890-6426e8c16ecb"
      },
      "outputs": [
        {
          "name": "stdout",
          "output_type": "stream",
          "text": [
            "[]\n"
          ]
        }
      ],
      "source": [
        "import requests\n",
        "\n",
        "from bs4 import BeautifulSoup\n",
        "import pandas as pd\n",
        "import time\n",
        "\n",
        "# URL of the website to scrape\n",
        "url = \"https://www.imdb.com/chart/top\"\n",
        "\n",
        "# Send an HTTP GET request to the website\n",
        "response = requests.get(url)\n",
        "\n",
        "# Parse the HTML code using BeautifulSoup\n",
        "soup = BeautifulSoup(response.content, 'html.parser')\n",
        "\n",
        "# Extract the relevant information from the HTML code\n",
        "movies = []\n",
        "for row in soup.select('tbody.lister-list tr'):\n",
        "    title = row.find('td', class_='titleColumn').find('a').get_text()\n",
        "    year = row.find('td', class_='titleColumn').find('span', class_='secondaryInfo').get_text()[1:-1]\n",
        "    rating = row.find('td', class_='ratingColumn imdbRating').find('strong').get_text()\n",
        "    movies.append([title, year, rating])\n",
        "print(movies)\n",
        "# Store the information in a pandas dataframe\n",
        "df = pd.DataFrame(movies, columns=['Title', 'Year', 'Rating'])\n",
        "\n",
        "# Add a delay between requests to avoid overwhelming the website with requests\n",
        "time.sleep(1)"
      ]
    },
    {
      "cell_type": "code",
      "execution_count": null,
      "metadata": {
        "id": "AEUSujeReepA"
      },
      "outputs": [],
      "source": [
        "# Export the data to a CSV file\n",
        "df.to_csv('top-rated-movies.csv', index=False)"
      ]
    },
    {
      "cell_type": "code",
      "execution_count": null,
      "metadata": {
        "colab": {
          "base_uri": "https://localhost:8080/"
        },
        "id": "EBa5HtjHei_i",
        "outputId": "ba16dd23-ad5c-4576-a18b-ed8a3584fe98"
      },
      "outputs": [
        {
          "name": "stdout",
          "output_type": "stream",
          "text": [
            "\n",
            "\n",
            "\n",
            "Example Domain\n",
            "\n",
            "\n",
            "\n",
            "\n",
            "\n",
            "\n",
            "\n",
            "Example Domain\n",
            "This domain is for use in illustrative examples in documents. You may use this\n",
            "    domain in literature without prior coordination or asking for permission.\n",
            "More information...\n",
            "\n",
            "\n",
            "\n",
            "\n"
          ]
        }
      ],
      "source": [
        "import requests\n",
        "from bs4 import BeautifulSoup\n",
        "\n",
        "# Send an HTTP request to the URL of the webpage you want to access\n",
        "response = requests.get(\"https://www.example.com\")\n",
        "\n",
        "# Parse the HTML content using BeautifulSoup\n",
        "soup = BeautifulSoup(response.content, \"html.parser\")\n",
        "\n",
        "# Extract the text content of the webpage\n",
        "text = soup.get_text()\n",
        "\n",
        "print(text)"
      ]
    },
    {
      "cell_type": "code",
      "execution_count": 9,
      "metadata": {
        "colab": {
          "base_uri": "https://localhost:8080/",
          "height": 411
        },
        "id": "OBykqEit2dI9",
        "outputId": "6299b6a8-277c-46aa-dea5-c777cf8dbf16"
      },
      "outputs": [
        {
          "output_type": "stream",
          "name": "stderr",
          "text": [
            "<ipython-input-9-37700bc8d047>:15: DeprecationWarning: The 'text' argument to find()-type methods is deprecated. Use 'string' instead.\n",
            "  topics = soup.find_all(\"p\", text=lambda x: \"mosquito\" in x.string.lower())\n"
          ]
        },
        {
          "output_type": "error",
          "ename": "AttributeError",
          "evalue": "'NoneType' object has no attribute 'string'",
          "traceback": [
            "\u001b[0;31m---------------------------------------------------------------------------\u001b[0m",
            "\u001b[0;31mAttributeError\u001b[0m                            Traceback (most recent call last)",
            "\u001b[0;32m<ipython-input-9-37700bc8d047>\u001b[0m in \u001b[0;36m<cell line: 14>\u001b[0;34m()\u001b[0m\n\u001b[1;32m     13\u001b[0m \u001b[0;34m\u001b[0m\u001b[0m\n\u001b[1;32m     14\u001b[0m \u001b[0;32mif\u001b[0m \u001b[0msoup\u001b[0m\u001b[0;34m.\u001b[0m\u001b[0mfind\u001b[0m\u001b[0;34m(\u001b[0m\u001b[0;34m'p'\u001b[0m\u001b[0;34m)\u001b[0m\u001b[0;34m:\u001b[0m\u001b[0;34m\u001b[0m\u001b[0;34m\u001b[0m\u001b[0m\n\u001b[0;32m---> 15\u001b[0;31m     \u001b[0mtopics\u001b[0m \u001b[0;34m=\u001b[0m \u001b[0msoup\u001b[0m\u001b[0;34m.\u001b[0m\u001b[0mfind_all\u001b[0m\u001b[0;34m(\u001b[0m\u001b[0;34m\"p\"\u001b[0m\u001b[0;34m,\u001b[0m \u001b[0mtext\u001b[0m\u001b[0;34m=\u001b[0m\u001b[0;32mlambda\u001b[0m \u001b[0mx\u001b[0m\u001b[0;34m:\u001b[0m \u001b[0;34m\"mosquito\"\u001b[0m \u001b[0;32min\u001b[0m \u001b[0mx\u001b[0m\u001b[0;34m.\u001b[0m\u001b[0mstring\u001b[0m\u001b[0;34m.\u001b[0m\u001b[0mlower\u001b[0m\u001b[0;34m(\u001b[0m\u001b[0;34m)\u001b[0m\u001b[0;34m)\u001b[0m\u001b[0;34m\u001b[0m\u001b[0;34m\u001b[0m\u001b[0m\n\u001b[0m\u001b[1;32m     16\u001b[0m \u001b[0;32melse\u001b[0m\u001b[0;34m:\u001b[0m\u001b[0;34m\u001b[0m\u001b[0;34m\u001b[0m\u001b[0m\n\u001b[1;32m     17\u001b[0m     \u001b[0mprint\u001b[0m\u001b[0;34m(\u001b[0m\u001b[0;34m\"No <p> tags found in the HTML content.\"\u001b[0m\u001b[0;34m)\u001b[0m\u001b[0;34m\u001b[0m\u001b[0;34m\u001b[0m\u001b[0m\n",
            "\u001b[0;32m/usr/local/lib/python3.10/dist-packages/bs4/element.py\u001b[0m in \u001b[0;36mfind_all\u001b[0;34m(self, name, attrs, recursive, string, limit, **kwargs)\u001b[0m\n\u001b[1;32m   2033\u001b[0m             \u001b[0mgenerator\u001b[0m \u001b[0;34m=\u001b[0m \u001b[0mself\u001b[0m\u001b[0;34m.\u001b[0m\u001b[0mchildren\u001b[0m\u001b[0;34m\u001b[0m\u001b[0;34m\u001b[0m\u001b[0m\n\u001b[1;32m   2034\u001b[0m         \u001b[0m_stacklevel\u001b[0m \u001b[0;34m=\u001b[0m \u001b[0mkwargs\u001b[0m\u001b[0;34m.\u001b[0m\u001b[0mpop\u001b[0m\u001b[0;34m(\u001b[0m\u001b[0;34m'_stacklevel'\u001b[0m\u001b[0;34m,\u001b[0m \u001b[0;36m2\u001b[0m\u001b[0;34m)\u001b[0m\u001b[0;34m\u001b[0m\u001b[0;34m\u001b[0m\u001b[0m\n\u001b[0;32m-> 2035\u001b[0;31m         return self._find_all(name, attrs, string, limit, generator,\n\u001b[0m\u001b[1;32m   2036\u001b[0m                               _stacklevel=_stacklevel+1, **kwargs)\n\u001b[1;32m   2037\u001b[0m     \u001b[0mfindAll\u001b[0m \u001b[0;34m=\u001b[0m \u001b[0mfind_all\u001b[0m       \u001b[0;31m# BS3\u001b[0m\u001b[0;34m\u001b[0m\u001b[0;34m\u001b[0m\u001b[0m\n",
            "\u001b[0;32m/usr/local/lib/python3.10/dist-packages/bs4/element.py\u001b[0m in \u001b[0;36m_find_all\u001b[0;34m(self, name, attrs, string, limit, generator, **kwargs)\u001b[0m\n\u001b[1;32m    839\u001b[0m                 \u001b[0;32mbreak\u001b[0m\u001b[0;34m\u001b[0m\u001b[0;34m\u001b[0m\u001b[0m\n\u001b[1;32m    840\u001b[0m             \u001b[0;32mif\u001b[0m \u001b[0mi\u001b[0m\u001b[0;34m:\u001b[0m\u001b[0;34m\u001b[0m\u001b[0;34m\u001b[0m\u001b[0m\n\u001b[0;32m--> 841\u001b[0;31m                 \u001b[0mfound\u001b[0m \u001b[0;34m=\u001b[0m \u001b[0mstrainer\u001b[0m\u001b[0;34m.\u001b[0m\u001b[0msearch\u001b[0m\u001b[0;34m(\u001b[0m\u001b[0mi\u001b[0m\u001b[0;34m)\u001b[0m\u001b[0;34m\u001b[0m\u001b[0;34m\u001b[0m\u001b[0m\n\u001b[0m\u001b[1;32m    842\u001b[0m                 \u001b[0;32mif\u001b[0m \u001b[0mfound\u001b[0m\u001b[0;34m:\u001b[0m\u001b[0;34m\u001b[0m\u001b[0;34m\u001b[0m\u001b[0m\n\u001b[1;32m    843\u001b[0m                     \u001b[0mresults\u001b[0m\u001b[0;34m.\u001b[0m\u001b[0mappend\u001b[0m\u001b[0;34m(\u001b[0m\u001b[0mfound\u001b[0m\u001b[0;34m)\u001b[0m\u001b[0;34m\u001b[0m\u001b[0;34m\u001b[0m\u001b[0m\n",
            "\u001b[0;32m/usr/local/lib/python3.10/dist-packages/bs4/element.py\u001b[0m in \u001b[0;36msearch\u001b[0;34m(self, markup)\u001b[0m\n\u001b[1;32m   2323\u001b[0m         \u001b[0;32melif\u001b[0m \u001b[0misinstance\u001b[0m\u001b[0;34m(\u001b[0m\u001b[0mmarkup\u001b[0m\u001b[0;34m,\u001b[0m \u001b[0mTag\u001b[0m\u001b[0;34m)\u001b[0m\u001b[0;34m:\u001b[0m\u001b[0;34m\u001b[0m\u001b[0;34m\u001b[0m\u001b[0m\n\u001b[1;32m   2324\u001b[0m             \u001b[0;32mif\u001b[0m \u001b[0;32mnot\u001b[0m \u001b[0mself\u001b[0m\u001b[0;34m.\u001b[0m\u001b[0mstring\u001b[0m \u001b[0;32mor\u001b[0m \u001b[0mself\u001b[0m\u001b[0;34m.\u001b[0m\u001b[0mname\u001b[0m \u001b[0;32mor\u001b[0m \u001b[0mself\u001b[0m\u001b[0;34m.\u001b[0m\u001b[0mattrs\u001b[0m\u001b[0;34m:\u001b[0m\u001b[0;34m\u001b[0m\u001b[0;34m\u001b[0m\u001b[0m\n\u001b[0;32m-> 2325\u001b[0;31m                 \u001b[0mfound\u001b[0m \u001b[0;34m=\u001b[0m \u001b[0mself\u001b[0m\u001b[0;34m.\u001b[0m\u001b[0msearch_tag\u001b[0m\u001b[0;34m(\u001b[0m\u001b[0mmarkup\u001b[0m\u001b[0;34m)\u001b[0m\u001b[0;34m\u001b[0m\u001b[0;34m\u001b[0m\u001b[0m\n\u001b[0m\u001b[1;32m   2326\u001b[0m         \u001b[0;31m# If it's text, make sure the text matches.\u001b[0m\u001b[0;34m\u001b[0m\u001b[0;34m\u001b[0m\u001b[0m\n\u001b[1;32m   2327\u001b[0m         \u001b[0;32melif\u001b[0m \u001b[0misinstance\u001b[0m\u001b[0;34m(\u001b[0m\u001b[0mmarkup\u001b[0m\u001b[0;34m,\u001b[0m \u001b[0mNavigableString\u001b[0m\u001b[0;34m)\u001b[0m \u001b[0;32mor\u001b[0m\u001b[0;31m \u001b[0m\u001b[0;31m\\\u001b[0m\u001b[0;34m\u001b[0m\u001b[0;34m\u001b[0m\u001b[0m\n",
            "\u001b[0;32m/usr/local/lib/python3.10/dist-packages/bs4/element.py\u001b[0m in \u001b[0;36msearch_tag\u001b[0;34m(self, markup_name, markup_attrs)\u001b[0m\n\u001b[1;32m   2294\u001b[0m                 \u001b[0;32melse\u001b[0m\u001b[0;34m:\u001b[0m\u001b[0;34m\u001b[0m\u001b[0;34m\u001b[0m\u001b[0m\n\u001b[1;32m   2295\u001b[0m                     \u001b[0mfound\u001b[0m \u001b[0;34m=\u001b[0m \u001b[0mmarkup_name\u001b[0m\u001b[0;34m\u001b[0m\u001b[0;34m\u001b[0m\u001b[0m\n\u001b[0;32m-> 2296\u001b[0;31m         \u001b[0;32mif\u001b[0m \u001b[0mfound\u001b[0m \u001b[0;32mand\u001b[0m \u001b[0mself\u001b[0m\u001b[0;34m.\u001b[0m\u001b[0mstring\u001b[0m \u001b[0;32mand\u001b[0m \u001b[0;32mnot\u001b[0m \u001b[0mself\u001b[0m\u001b[0;34m.\u001b[0m\u001b[0m_matches\u001b[0m\u001b[0;34m(\u001b[0m\u001b[0mfound\u001b[0m\u001b[0;34m.\u001b[0m\u001b[0mstring\u001b[0m\u001b[0;34m,\u001b[0m \u001b[0mself\u001b[0m\u001b[0;34m.\u001b[0m\u001b[0mstring\u001b[0m\u001b[0;34m)\u001b[0m\u001b[0;34m:\u001b[0m\u001b[0;34m\u001b[0m\u001b[0;34m\u001b[0m\u001b[0m\n\u001b[0m\u001b[1;32m   2297\u001b[0m             \u001b[0mfound\u001b[0m \u001b[0;34m=\u001b[0m \u001b[0;32mNone\u001b[0m\u001b[0;34m\u001b[0m\u001b[0;34m\u001b[0m\u001b[0m\n\u001b[1;32m   2298\u001b[0m         \u001b[0;32mreturn\u001b[0m \u001b[0mfound\u001b[0m\u001b[0;34m\u001b[0m\u001b[0;34m\u001b[0m\u001b[0m\n",
            "\u001b[0;32m/usr/local/lib/python3.10/dist-packages/bs4/element.py\u001b[0m in \u001b[0;36m_matches\u001b[0;34m(self, markup, match_against, already_tried)\u001b[0m\n\u001b[1;32m   2355\u001b[0m \u001b[0;34m\u001b[0m\u001b[0m\n\u001b[1;32m   2356\u001b[0m         \u001b[0;32mif\u001b[0m \u001b[0misinstance\u001b[0m\u001b[0;34m(\u001b[0m\u001b[0mmatch_against\u001b[0m\u001b[0;34m,\u001b[0m \u001b[0mCallable\u001b[0m\u001b[0;34m)\u001b[0m\u001b[0;34m:\u001b[0m\u001b[0;34m\u001b[0m\u001b[0;34m\u001b[0m\u001b[0m\n\u001b[0;32m-> 2357\u001b[0;31m             \u001b[0;32mreturn\u001b[0m \u001b[0mmatch_against\u001b[0m\u001b[0;34m(\u001b[0m\u001b[0mmarkup\u001b[0m\u001b[0;34m)\u001b[0m\u001b[0;34m\u001b[0m\u001b[0;34m\u001b[0m\u001b[0m\n\u001b[0m\u001b[1;32m   2358\u001b[0m \u001b[0;34m\u001b[0m\u001b[0m\n\u001b[1;32m   2359\u001b[0m         \u001b[0;31m# Custom callables take the tag as an argument, but all\u001b[0m\u001b[0;34m\u001b[0m\u001b[0;34m\u001b[0m\u001b[0m\n",
            "\u001b[0;32m<ipython-input-9-37700bc8d047>\u001b[0m in \u001b[0;36m<lambda>\u001b[0;34m(x)\u001b[0m\n\u001b[1;32m     13\u001b[0m \u001b[0;34m\u001b[0m\u001b[0m\n\u001b[1;32m     14\u001b[0m \u001b[0;32mif\u001b[0m \u001b[0msoup\u001b[0m\u001b[0;34m.\u001b[0m\u001b[0mfind\u001b[0m\u001b[0;34m(\u001b[0m\u001b[0;34m'p'\u001b[0m\u001b[0;34m)\u001b[0m\u001b[0;34m:\u001b[0m\u001b[0;34m\u001b[0m\u001b[0;34m\u001b[0m\u001b[0m\n\u001b[0;32m---> 15\u001b[0;31m     \u001b[0mtopics\u001b[0m \u001b[0;34m=\u001b[0m \u001b[0msoup\u001b[0m\u001b[0;34m.\u001b[0m\u001b[0mfind_all\u001b[0m\u001b[0;34m(\u001b[0m\u001b[0;34m\"p\"\u001b[0m\u001b[0;34m,\u001b[0m \u001b[0mtext\u001b[0m\u001b[0;34m=\u001b[0m\u001b[0;32mlambda\u001b[0m \u001b[0mx\u001b[0m\u001b[0;34m:\u001b[0m \u001b[0;34m\"mosquito\"\u001b[0m \u001b[0;32min\u001b[0m \u001b[0mx\u001b[0m\u001b[0;34m.\u001b[0m\u001b[0mstring\u001b[0m\u001b[0;34m.\u001b[0m\u001b[0mlower\u001b[0m\u001b[0;34m(\u001b[0m\u001b[0;34m)\u001b[0m\u001b[0;34m)\u001b[0m\u001b[0;34m\u001b[0m\u001b[0;34m\u001b[0m\u001b[0m\n\u001b[0m\u001b[1;32m     16\u001b[0m \u001b[0;32melse\u001b[0m\u001b[0;34m:\u001b[0m\u001b[0;34m\u001b[0m\u001b[0;34m\u001b[0m\u001b[0m\n\u001b[1;32m     17\u001b[0m     \u001b[0mprint\u001b[0m\u001b[0;34m(\u001b[0m\u001b[0;34m\"No <p> tags found in the HTML content.\"\u001b[0m\u001b[0;34m)\u001b[0m\u001b[0;34m\u001b[0m\u001b[0;34m\u001b[0m\u001b[0m\n",
            "\u001b[0;31mAttributeError\u001b[0m: 'NoneType' object has no attribute 'string'"
          ]
        }
      ],
      "source": [
        "import requests\n",
        "from bs4 import BeautifulSoup\n",
        "\n",
        "# Send an HTTP request to the URL of the webpage\n",
        "# req = requests.get(\"https://www.hindustantimes.com/topic/dengue\")\n",
        "req = requests.get(\"https://www.indiatoday.in/health/story/how-rising-dengue-burden-is-costing-india-and-sri-lanka-billions-2516716-2024-03-19\")\n",
        "\n",
        "# Parse the HTML content\n",
        "soup = BeautifulSoup(req.text, \"html.parser\")\n",
        "\n",
        "# Find all instances of the word \"blood\"\n",
        "# topics = soup.find_all(\"p\", text=lambda x: \"mosquito\" in x.string.lower())\n",
        "\n",
        "if soup.find('p'):\n",
        "    topics = soup.find_all(\"p\", text=lambda x: \"mosquito\" in x.string.lower())\n",
        "else:\n",
        "    print(\"No <p> tags found in the HTML content.\")\n",
        "\n",
        "# Display the results\n",
        "# print(topics)\n",
        "for p in soup.find_all('p'):\n",
        "    print(p.text)\n",
        "# for topic in topics:\n",
        "#     print(topic.string)"
      ]
    },
    {
      "cell_type": "code",
      "execution_count": 8,
      "metadata": {
        "colab": {
          "base_uri": "https://localhost:8080/"
        },
        "id": "9aEfP-pU-PIc",
        "outputId": "3d3c6239-f23d-43d8-dcc6-c0b6ef2c478c"
      },
      "outputs": [
        {
          "output_type": "stream",
          "name": "stdout",
          "text": [
            "How rising dengue burden is costing India and Sri Lanka billions - India Today India TodayNortheastMalayalamBusiness TodayBT BazaarAaj TakLallantopBanglaGNTTVReader’s DigestSports TakCrime TakAstro TakGamingHarper's BazaarBrides TodayCosmopolitanIshq FMAaj Tak CampusKisan TakIndia Today HindiIndia TodayNortheastMalayalamBusiness TodayBT BazaarAaj TakLallantopBanglaGNTTVReader’s DigestSports TakMagazineLive TVSearchSEARCHSIGN INEdition ININUSHomeElectionsNewse-Chunav 2024Your ManifestoMy Leader, My FutureSuper NaMoVirtual Voting BoothElections ScheduleLok Sabha ElectionAssembly ElectionFAQs TVLive TVPrimetimeMagazineLatest EditionInsightLife+StyleIndiaSouthWorldBusinessTechnologyEntertainmentShowbuzzBollywoodHollywoodOTTLatest ReviewsAll SportsCricketSportsIPL 2024IPL ScheduleIPL Points TableIPL Orange CapIPL Purple CapFootball SpecialsPodcastsSunday SpecialHistory of ItNewsMoDIUInteractivesOpinionGamesVideosFact Check Other NewsAutoWeb StoriesScienceEducationHealthIt's ViralLaw TodayEnvironmentCitiesHoroscopesWeatherFollow Us On:   NewsHealthHow rising dengue burden is costing India and Sri Lanka billionsHow rising dengue burden is costing India and Sri Lanka billionsResearchers highlight the dire economic consequences of dengue caused by a virus spread through the bite of an infected Aedes mosquito species, reinforcing the benefits that the region would realise if the neglected tropical disease was substantially controlled.Listen to StoryLive TVShareAdvertisementIn 2023, India officially recorded nearly 95,000 cases and 91 deaths by September 17. (Photo: PTI)Press Trust of IndiaNew Delhi,UPDATED: Mar 19, 2024 14:07 ISTThe increasing incidence of dengue in India and Sri Lanka is not just a significant health concern but also exacts a hefty economic toll on these South Asian countries, say experts who estimate the annual losses to be in billions.Researchers highlight the dire economic consequences of this affliction caused by a virus spread through the bite of an infected Aedes mosquito species, reinforcing the benefits that the region would realise if the neglected tropical disease was substantially controlled.advertisementAs the sweltering heat swept across Colombo in June, Seetha, a 60-year-old daily wager found herself in the grips of dengue hemorrhagic fever, a severe and sometimes fatal form of the disease. \"I had a fever, body aches, and a relentless headache for four days before being admitted to the hospital. I was catheterised and not even allowed to go to the toilet,” she told PTI.Seetha's work involved providing care to a 5-year-old child until the mother returned from work. The onset of dengue, however, disrupted her livelihood.\"I was bedridden for seven days in the hospital, unable to move, and the impact on my work was severe. It took me almost a month to recover,\" she recalls.As the sole breadwinner following her husband's death, Seetha faced a financial quandary during her illness. \"My children were not working and there was no money. My brother and another relative had to step in and provide us with financial support for survival,\" the woman explained.\n",
            "\n",
            " \n",
            "\n",
            "\n",
            "\n",
            "Dengue caused by a virus spread through the bite of an infected Aedes mosquito species. (Photo: Getty Images)\n",
            "Seetha's narrative underscores the broader economic challenges faced by South Asian countries that grapple with the relentless onslaught of dengue every year.In 2023, India officially recorded nearly 95,000 cases and 91 deaths by September 17. In 2022, the figure was 2.33 lakh with 303 deaths. Sri Lanka had reported more than 80,000 dengue cases by the first week of December last year and 47 deaths, according to the National Dengue Control Unit (NDCU). Dr Nayani P Weerasinghe, a consultant microbiologist and senior lecturer at the University of Ruhuna in Galle, Sri Lanka, noted the economic burden of dengue in the two countries is substantial, with significant strains on healthcare systems and families, especially those reliant on daily wages.\"Both agricultural and industrial sectors suffer due to the disabling nature of dengue and absenteeism from work, particularly in labour-intensive industries, adversely affecting productivity,\" Weerasinghe told PTI.Echoing Weerasinghe, epidemiologist and economist Ramanan Laxminarayan noted that although dengue rarely kills, it causes significant health burdens and costs.\"When hospitalisation is required, it drives many families into poverty. I recently had a coworker in India suffering from dengue. Fortunately, he survived but the hospital bills were over Rs 14 lakh,\" Laxminarayan, founder and director of One Health Trust, told PTI.advertisementMost people with dengue have mild or no symptoms and get better in up to two weeks. Symptoms include high fever, severe headache, muscle and joint pains, swollen glands, and rash. However, severe symptoms such as shooting abdominal pain, bleeding gums or nose, and blood in vomit or stool, often come after the fever has gone, and can be fatal. \n",
            "\n",
            " \n",
            "\n",
            "\n",
            "\n",
            "Dengue mosquito\n",
            "What makes matters worse is that there are no effective drugs to treat the disease. The economic impact of dengue is multifaceted. A cost analysis study in southern Sri Lanka estimated direct medical costs per hospitalised dengue patient at USD 233.76 (around Rs 20,000) in 2017-18.For complications requiring intensive care arise, the cost soars to USD 733.46 (over Rs 61,000). The burden extends beyond direct medical expenses to indirect costs, with households bearing 77.29% of the monthly income on average, the expert said.Weerasinghe also highlighted variations across South Asian countries, citing a systemic analysis in India which indicates a cost of USD 5.71 billion from 2013 to 2016, substantially higher than in Sri Lanka. advertisementThe direct costs were for seeking medical care for the illness -- channelling fees, costs of laboratory investigations, medications, travel expenses for seeking medical care and for visiting the admitted family members, among others.Direct household cost per patient was 16.29 USD, almost 4% of a person's average monthly income in the island nation. Indirect costs for the families affected by dengue resulted in absenteeism from work, thereby leading to loss of family income. People with informal employment and daily wage jobs are more likely to be affected by this, the experts said. A considerable proportion of families in the South Asian region have only one member working. An average of 22 days of absenteeism from work has been reported due to dengue, according to a 2019 study published in the journal International Journal of Infectious Diseases.\n",
            "\n",
            " \n",
            "\n",
            "\n",
            "\n",
            "For complications requiring intensive care arise, the cost soars to USD 733.46 (over Rs 61,000). (Photo: AFP)\n",
            "advertisement“When we add both direct and indirect costs to the household, it accounts for 77.29% , which is almost three-fourths of the monthly household income in Sri Lanka,\" Weerasinghe said.In Thailand, another South Asian country with high dengue prevalence, the economic impact of the disease is 600 million Baht (over Rs 138 crore) per year for just treatment, noted Darin Areechokchai, from the Bureau of Vector-Borne Diseases, Department of Disease Control, Ministry of Public Health. \"The epidemiology of the disease has changed and is now equal in both children and adults, so the economic impact in South Asia will be higher in the future than in the past,” Areechokchai told PTI. Weerasinghe warned of long-term consequences of dengue, especially in the case of pediatric infections leading to school absenteeism, potentially impacting future earnings. \"If people develop severe dengue, hospitalisation becomes unavoidable -- and that’s where the expenses add up both for the individual and the healthcare system,\" said Neelika Malavige, DNDi’s Head of Dengue Global Programme and Scientific Affairs, South Asia. \"However, the costs are huge even when patients are not hospitalised, as they have to visit their doctor daily if they are suspected to have dengue, as we don't have a test to find out who will develop plasma leakage leading to severe dengue and who will have mild symptoms,\" she told PTI. As global changes in urbanisation, mobility, and climate contribute to the spread of dengue, Laxminarayan foresees an increased incidence of cases. \"Climate change increases the range for the main vector for dengue – Aedes aegypti.The expansion of water tanks and storage containers where this mosquito usually breeds is likely to increase dengue cases in coming years, expand the season during which the disease is transmitted, and cost us even more money,” he explained.To reduce the economic impact of dengue, experts say it is necessary to control the number of such cases, educate the general public, and implement policies for disease control.\n",
            "\n",
            " \n",
            "\n",
            "\n",
            "\n",
            "The expansion of water tanks and storage containers where this mosquito usually breeds is likely to increase dengue cases in coming years. (Photo: PTI)\n",
            "Weerasinghe stressed the importance of preventive measures, including health education programmes and legal actions for environmental cleanliness. International collaboration is deemed crucial for sharing knowledge and resources to address the economic burden effectively.Studies are being conducted in South Asian countries on dengue, with the research teams providing information for the policymakers on effective control and effective management measures for the disease, Weerasinghe said. For instance, the US, Australia, and even countries in Southeast Asian regions like Singapore have used Aedes mosquitoes with Wolbachia bacteria to successfully reduce the number of mosquitoes in regions with dengue epidemics.Certain strains of Wolbachia can reduce the capacity of mosquito species to transmit diseases like dengue fever, either by directly inhibiting the pathogen or by shortening the mosquito's lifespan.\"Unfortunately, currently there's no drug that can prevent dengue from spiralling into a severe state. This is a gaping hole in research and development that we urgently need to fill,\" Neelika added. As Seetha reflects on her harrowing experience, she admits, \"I am very scared of getting dengue again.” \"I can't imagine going through that again. It was terrible for the whole family,\" she added.(Reporting for this story was supported by the MSF-DNDi Grant on Neglected Tropical Diseases as part of MSF’s Without Borders Media Fellowship. The fellowship encourages independent, impartial, and neutral reporting on health and humanitarian crises.)Published By: Daphne ClarancePublished On: Mar 19, 2024ALSO READ |  US woman found she had brain tumour through selfie. Here's howMust Watch \n",
            "Watch Live TV AdvertisementAlso Watch33:42Arvind Kejriwal claims 'ugly succession war' going on in BJP0:43Arvind Kejriwal thanks wife Sunita for bearing with a 'sanki husband'0:42Watch: Passing out parade of 146th course held at NDA 0:30Video: Parineeti-Raghav seek blessings at Siddhivinayak temple1:07Video: Chopper carrying 6 pilgrims goes into tailspin while landing in KedarnathAdvertisementRead ThisHigh Court stays probe against Bengal Raj Bhavan staff in 'molestation' caseAlways at Barcelona's disposal: Xavi puts out message after abrupt sackingFifth accused arrested in Bengaluru cafe blast case days after multi-state raidsAmir, Wasim return as Pakistan announce 15-member squadFeel I played T20 World Cup in 2022 because of RCB fans: KarthikAdvertisement      \n",
            "      Follow Us On:                                Advertisement                          PUBLICATIONS  India Today Business Today India Today-Hindi TIME    TELEVISION  India Today TV Aaj Tak  Good News Today    EVENTS  Agenda AajTak India Today Conclave Sahitya AajTak     RADIO  Ishq FM AajTak Radio    GAMING  India Today Gaming  World Esports Cup        USEFUL LINKS  Press Release Sitemap News Newsletter  Privacy Policy Correction Policy LMIL Documents    PRINTING  Thomson Press    WELFARE  Care Today    DISTRIBUTION  Rate Card    SYNDICATIONS  Headlines Today        WEBSITES  India Today India Today Malayalam India Today NE Business Today DailyO AajTak Lallantop Bangla GNTTV iChowk Reader’s Digest Cosmopolitan    EDUCATION  Vasant Valley Best Colleges Best Universities          Download App              ABOUT US CONTACT US TERMS AND CONDITIONS ARCHIVES    Copyright © 2024 Living Media India Limited. For reprint rights: Syndications Today   \n"
          ]
        }
      ],
      "source": [
        "import requests\n",
        "from bs4 import BeautifulSoup\n",
        "\n",
        "# Send an HTTP request to the URL of the webpage you want to access\n",
        "# response = requests.get(\"https://www.hindustantimes.com/topic/dengue\")\n",
        "response = requests.get(\"https://www.indiatoday.in/health/story/how-rising-dengue-burden-is-costing-india-and-sri-lanka-billions-2516716-2024-03-19\")\n",
        "\n",
        "# Parse the HTML content using BeautifulSoup\n",
        "soup = BeautifulSoup(response.content, \"html.parser\")\n",
        "\n",
        "# Extract the text content of the webpage\n",
        "text = soup.get_text()\n",
        "\n",
        "print(text)\n",
        "\n",
        "# https://realpython.com/python-web-scraping-practical-introduction/#:~:text=One%20way%20to%20extract%20information,requested%20in%20the%20previous%20example.\n"
      ]
    },
    {
      "cell_type": "code",
      "execution_count": null,
      "metadata": {
        "id": "-JaiZ9D-GH86"
      },
      "outputs": [],
      "source": [
        "import spacy\n",
        "from spacy.lang.en.stop_words import STOP_WORDS\n",
        "from string import punctuation\n",
        "from heapq import nlargest"
      ]
    },
    {
      "cell_type": "code",
      "execution_count": null,
      "metadata": {
        "id": "7eYx8UgcEyDr"
      },
      "outputs": [],
      "source": [
        "def summarize(text, per):\n",
        "    nlp = spacy.load('en_core_web_sm')\n",
        "    doc= nlp(text)\n",
        "    tokens=[token.text for token in doc]\n",
        "    word_frequencies={}\n",
        "    for word in doc:\n",
        "        if word.text.lower() not in list(STOP_WORDS):\n",
        "            if word.text.lower() not in punctuation:\n",
        "                if word.text not in word_frequencies.keys():\n",
        "                    word_frequencies[word.text] = 1\n",
        "                else:\n",
        "                    word_frequencies[word.text] += 1\n",
        "    max_frequency=max(word_frequencies.values())\n",
        "    for word in word_frequencies.keys():\n",
        "        word_frequencies[word]=word_frequencies[word]/max_frequency\n",
        "    sentence_tokens= [sent for sent in doc.sents]\n",
        "    sentence_scores = {}\n",
        "    for sent in sentence_tokens:\n",
        "        for word in sent:\n",
        "            if word.text.lower() in word_frequencies.keys():\n",
        "                if sent not in sentence_scores.keys():\n",
        "                    sentence_scores[sent]=word_frequencies[word.text.lower()]\n",
        "                else:\n",
        "                    sentence_scores[sent]+=word_frequencies[word.text.lower()]\n",
        "    select_length=int(len(sentence_tokens)*per)\n",
        "    summary=nlargest(select_length, sentence_scores,key=sentence_scores.get)\n",
        "    final_summary=[word.text for word in summary]\n",
        "    summary=''.join(final_summary)\n",
        "    return summary"
      ]
    },
    {
      "cell_type": "code",
      "execution_count": null,
      "metadata": {
        "id": "e9CIQ9kEE7yR"
      },
      "outputs": [],
      "source": [
        "summarize(article.text, 0.05)"
      ]
    }
  ],
  "metadata": {
    "colab": {
      "provenance": []
    },
    "kernelspec": {
      "display_name": "Python 3",
      "name": "python3"
    },
    "language_info": {
      "name": "python"
    }
  },
  "nbformat": 4,
  "nbformat_minor": 0
}